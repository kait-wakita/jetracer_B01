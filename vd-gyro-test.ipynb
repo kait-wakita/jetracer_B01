{
 "cells": [
  {
   "cell_type": "markdown",
   "metadata": {},
   "source": [
    "# gyroのテスト"
   ]
  },
  {
   "cell_type": "code",
   "execution_count": 10,
   "metadata": {},
   "outputs": [
    {
     "data": {
      "text/plain": [
       "[<matplotlib.lines.Line2D at 0x7f6a1164a8>]"
      ]
     },
     "execution_count": 10,
     "metadata": {},
     "output_type": "execute_result"
    },
    {
     "data": {
      "image/png": "[encoded data removed]",
      "text/plain": [
       "<matplotlib.figure.Figure at 0x7f6a177ef0>"
      ]
     },
     "metadata": {
      "needs_background": "light"
     },
     "output_type": "display_data"
    }
   ],
   "source": [
    "import smbus\n",
    "import math\n",
    "from time import sleep\n",
    "import time\n",
    "\n",
    "import numpy as np\n",
    "import matplotlib.pyplot as plt\n",
    "\n",
    "DEV_ADDR = 0x68\n",
    "\n",
    "ACCEL_XOUT = 0x3b\n",
    "ACCEL_YOUT = 0x3d\n",
    "ACCEL_ZOUT = 0x3f\n",
    "TEMP_OUT = 0x41\n",
    "GYRO_XOUT = 0x43\n",
    "GYRO_YOUT = 0x45\n",
    "GYRO_ZOUT = 0x47\n",
    "\n",
    "PWR_MGMT_1 = 0x6b\n",
    "PWR_MGMT_2 = 0x6c   \n",
    "\n",
    "bus = smbus.SMBus(1)\n",
    "bus.write_byte_data(DEV_ADDR, PWR_MGMT_1, 0)\n",
    "\n",
    "def read_word(adr):\n",
    "    high = bus.read_byte_data(DEV_ADDR, adr)\n",
    "    low = bus.read_byte_data(DEV_ADDR, adr+1)\n",
    "    val = (high << 8) + low\n",
    "    return val\n",
    "\n",
    "def read_word_sensor(adr):\n",
    "    val = read_word(adr)\n",
    "    if (val >= 0x8000):  return -((65535 - val) + 1)\n",
    "    else:  return val\n",
    "\n",
    "def get_temp():\n",
    "    temp = read_word_sensor(TEMP_OUT)\n",
    "    x = temp / 340 + 36.53      # data sheet(register map)記載の計算式.\n",
    "    return x\n",
    "\n",
    "def getGyro():\n",
    "    x = read_word_sensor(GYRO_XOUT)/ 131.0\n",
    "    y = read_word_sensor(GYRO_YOUT)/ 131.0\n",
    "    z = read_word_sensor(GYRO_ZOUT)/ 131.0\n",
    "    return [x, y, z]\n",
    "\n",
    "\n",
    "def getAccel():\n",
    "    x = read_word_sensor(ACCEL_XOUT)/ 16384.0\n",
    "    y= read_word_sensor(ACCEL_YOUT)/ 16384.0\n",
    "    z= read_word_sensor(ACCEL_ZOUT)/ 16384.0\n",
    "    return [x, y, z]\n",
    "\n",
    "n=30\n",
    "yaw=np.zeros(n)\n",
    "\n",
    "for i in range(n):\n",
    "    ax, ay, az = getAccel()\n",
    "    gx, gy, gz = getGyro()\n",
    "    #print ('{0:4.3f},   {0:4.3f},    {0:4.3f},     {0:4.3f},      {0:4.3f},      {0:4.3f},' .format(gx, gy, gz, ax, ay, az))\n",
    "    #print (\"yaw:\", gz)\n",
    "    yaw[i] = gz\n",
    "    time.sleep(0.1)\n",
    "    \n",
    "t=np.arange(0,n)\n",
    "\n",
    "plt.plot(t,yaw)\n"
   ]
  },
  {
   "cell_type": "code",
   "execution_count": null,
   "metadata": {},
   "outputs": [],
   "source": []
  }
 ],
 "metadata": {
  "kernelspec": {
   "display_name": "Python 3",
   "language": "python",
   "name": "python3"
  },
  "language_info": {
   "codemirror_mode": {
    "name": "ipython",
    "version": 3
   },
   "file_extension": ".py",
   "mimetype": "text/x-python",
   "name": "python",
   "nbconvert_exporter": "python",
   "pygments_lexer": "ipython3",
   "version": "3.6.9"
  }
 },
 "nbformat": 4,
 "nbformat_minor": 4
}
