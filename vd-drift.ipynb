{
 "cells": [
  {
   "cell_type": "markdown",
   "metadata": {},
   "source": [
    "# サイン操舵\n",
    "0.5Hzでサイン操舵し計測"
   ]
  },
  {
   "cell_type": "code",
   "execution_count": 26,
   "metadata": {},
   "outputs": [],
   "source": [
    "from jetracer.nvidia_racecar import NvidiaRacecar\n",
    "type = \"TT02\" # \"OPTION\", \"TT02\"\n",
    "car = NvidiaRacecar(type)"
   ]
  },
  {
   "cell_type": "code",
   "execution_count": 27,
   "metadata": {},
   "outputs": [],
   "source": [
    "import smbus\n",
    "import math\n",
    "from time import sleep\n",
    "import time\n",
    "\n",
    "import numpy as np\n",
    "import matplotlib.pyplot as plt\n",
    "\n",
    "DEV_ADDR = 0x68\n",
    "\n",
    "ACCEL_XOUT = 0x3b\n",
    "ACCEL_YOUT = 0x3d\n",
    "ACCEL_ZOUT = 0x3f\n",
    "TEMP_OUT = 0x41\n",
    "GYRO_XOUT = 0x43\n",
    "GYRO_YOUT = 0x45\n",
    "GYRO_ZOUT = 0x47\n",
    "\n",
    "PWR_MGMT_1 = 0x6b\n",
    "PWR_MGMT_2 = 0x6c   \n",
    "\n",
    "bus = smbus.SMBus(1)\n",
    "bus.write_byte_data(DEV_ADDR, PWR_MGMT_1, 0)\n",
    "\n",
    "def read_word(adr):\n",
    "    high = bus.read_byte_data(DEV_ADDR, adr)\n",
    "    low = bus.read_byte_data(DEV_ADDR, adr+1)\n",
    "    val = (high << 8) + low\n",
    "    return val\n",
    "\n",
    "def read_word_sensor(adr):\n",
    "    val = read_word(adr)\n",
    "    if (val >= 0x8000):  return -((65535 - val) + 1)\n",
    "    else:  return val\n",
    "\n",
    "def get_temp():\n",
    "    temp = read_word_sensor(TEMP_OUT)\n",
    "    x = temp / 340 + 36.53      # data sheet(register map)記載の計算式.\n",
    "    return x\n",
    "\n",
    "def getGyro():\n",
    "    x = read_word_sensor(GYRO_XOUT)/ 131.0\n",
    "    y = read_word_sensor(GYRO_YOUT)/ 131.0\n",
    "    z = read_word_sensor(GYRO_ZOUT)/ 131.0\n",
    "    return [x, y, z]\n",
    "\n",
    "\n",
    "def getAccel():\n",
    "    x = read_word_sensor(ACCEL_XOUT)/ 16384.0\n",
    "    y= read_word_sensor(ACCEL_YOUT)/ 16384.0\n",
    "    z= read_word_sensor(ACCEL_ZOUT)/ 16384.0\n",
    "    return [x, y, z]"
   ]
  },
  {
   "cell_type": "code",
   "execution_count": 35,
   "metadata": {},
   "outputs": [
    {
     "data": {
      "image/png": "[encoded data removed]",
      "text/plain": [
       "<matplotlib.figure.Figure at 0x7f693dc438>"
      ]
     },
     "metadata": {
      "needs_background": "light"
     },
     "output_type": "display_data"
    }
   ],
   "source": [
    "import ipywidgets.widgets as widgets\n",
    "from IPython.display import display\n",
    "import time, math\n",
    "\n",
    "car.steering = 0.0\n",
    "car.throttle = 0.1\n",
    "time.sleep(3)\n",
    "\n",
    "# 車両固有パラメータ (basic_motion.pyキャリブレーションで設定)\n",
    "car.steering_gain = -0.65\n",
    "car.steering_offset = 0.13\n",
    "\n",
    "\n",
    "# 走行パラメータ設定\n",
    "car.throttle = 0.7 # 車速\n",
    "ff = 50 # サンプリング周波数 (Hz)\n",
    "fc = 0.5 # 操舵周波数 (Hz)\n",
    "T = 5 # 走行する秒数(sec)\n",
    "\n",
    "# 変数準備\n",
    "n = T*ff\n",
    "yaw=np.zeros(n)\n",
    "steer=np.zeros(n)\n",
    "tt=np.zeros(n)\n",
    "\n",
    "# 走行\n",
    "car.steering = 0.0\n",
    "for i in range(0, n, 1):\n",
    "    c = 0.7;\n",
    "    #print(\"steering: \",c)\n",
    "    steer[i] = c\n",
    "    car.steering = c\n",
    "    \n",
    "    ax, ay, az = getAccel()\n",
    "    gx, gy, gz = getGyro()\n",
    "    #print (\"yaw:\", gz)\n",
    "    yaw[i] = -gz\n",
    "    tt[i] = i/ff\n",
    "    \n",
    "    time.sleep(1.0/ff)\n",
    "\n",
    "# 車両停止\n",
    "car.steering = 0.0\n",
    "car.throttle = 0.1\n",
    "\n",
    "    \n",
    "# グラフを書く\n",
    "fig = plt.figure()\n",
    "\n",
    "#add_subplot()でグラフを描画する領域を追加する．引数は行，列，場所\n",
    "ax1 = fig.add_subplot(2, 1, 1)\n",
    "ax2 = fig.add_subplot(2, 1, 2)\n",
    "\n",
    "ax1.plot(tt, steer, label=\"steer\")\n",
    "ax2.plot(tt, yaw, label=\"yaw\")\n",
    "ax1.legend(loc = 'upper right') #凡例\n",
    "ax2.legend(loc = 'upper right') #凡例\n",
    "\n",
    "fig.tight_layout()              #レイアウトの設定\n",
    "plt.show()\n",
    "    \n",
    "    "
   ]
  },
  {
   "cell_type": "code",
   "execution_count": null,
   "metadata": {},
   "outputs": [],
   "source": []
  },
  {
   "cell_type": "code",
   "execution_count": null,
   "metadata": {},
   "outputs": [],
   "source": []
  },
  {
   "cell_type": "code",
   "execution_count": null,
   "metadata": {},
   "outputs": [],
   "source": []
  }
 ],
 "metadata": {
  "kernelspec": {
   "display_name": "Python 3",
   "language": "python",
   "name": "python3"
  },
  "language_info": {
   "codemirror_mode": {
    "name": "ipython",
    "version": 3
   },
   "file_extension": ".py",
   "mimetype": "text/x-python",
   "name": "python",
   "nbconvert_exporter": "python",
   "pygments_lexer": "ipython3",
   "version": "3.6.9"
  }
 },
 "nbformat": 4,
 "nbformat_minor": 4
}
