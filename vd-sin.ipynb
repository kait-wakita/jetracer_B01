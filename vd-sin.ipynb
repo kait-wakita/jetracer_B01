{
 "cells": [
  {
   "cell_type": "markdown",
   "metadata": {},
   "source": [
    "# サイン操舵\n",
    "0.5Hz"
   ]
  },
  {
   "cell_type": "code",
   "execution_count": 21,
   "metadata": {},
   "outputs": [],
   "source": [
    "from jetracer.nvidia_racecar import NvidiaRacecar\n",
    "type = \"TT02\" # \"OPTION\", \"TT02\"\n",
    "car = NvidiaRacecar(type)"
   ]
  },
  {
   "cell_type": "code",
   "execution_count": 26,
   "metadata": {},
   "outputs": [],
   "source": [
    "import ipywidgets.widgets as widgets\n",
    "from IPython.display import display\n",
    "import time, math\n",
    "\n",
    "car.steering = 0.0\n",
    "car.throttle = 0.1\n",
    "time.sleep(3)\n",
    "\n",
    "car.steering_gain = -0.65\n",
    "car.steering_offset = 0.13\n",
    "car.throttle = 0.32\n",
    "\n",
    "ff = 10 # サンプリング周波数\n",
    "fc = 0.5 # 操舵周期\n",
    "\n",
    "\n",
    "\n",
    "car.steering = 0.0\n",
    "for i in range(0, n, 1):\n",
    "    time.sleep(1.0/ff)\n",
    "    c = math.sin(2*math.pi*i*fc/ff)\n",
    "    #print(\"steering: \",c)\n",
    "    car.steering = c\n",
    "\n",
    "car.steering = 0.0\n",
    "car.throttle = 0.1\n"
   ]
  },
  {
   "cell_type": "code",
   "execution_count": null,
   "metadata": {},
   "outputs": [],
   "source": []
  },
  {
   "cell_type": "code",
   "execution_count": null,
   "metadata": {},
   "outputs": [],
   "source": []
  }
 ],
 "metadata": {
  "kernelspec": {
   "display_name": "Python 3",
   "language": "python",
   "name": "python3"
  },
  "language_info": {
   "codemirror_mode": {
    "name": "ipython",
    "version": 3
   },
   "file_extension": ".py",
   "mimetype": "text/x-python",
   "name": "python",
   "nbconvert_exporter": "python",
   "pygments_lexer": "ipython3",
   "version": "3.6.9"
  }
 },
 "nbformat": 4,
 "nbformat_minor": 4
}
